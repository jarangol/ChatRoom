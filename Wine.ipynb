{
  "nbformat": 4,
  "nbformat_minor": 0,
  "metadata": {
    "colab": {
      "name": "Wine.ipynb",
      "version": "0.3.2",
      "provenance": [],
      "collapsed_sections": [
        "_IJYWr-PO3EZ",
        "PYgYgnRNws5u"
      ],
      "include_colab_link": true
    },
    "kernelspec": {
      "name": "python3",
      "display_name": "Python 3"
    }
  },
  "cells": [
    {
      "cell_type": "markdown",
      "metadata": {
        "id": "view-in-github",
        "colab_type": "text"
      },
      "source": [
        "<a href=\"https://colab.research.google.com/github/jarangol/ChatRoom/blob/master/Wine.ipynb\" target=\"_parent\"><img src=\"https://colab.research.google.com/assets/colab-badge.svg\" alt=\"Open In Colab\"/></a>"
      ]
    },
    {
      "metadata": {
        "id": "Mvj6oxq4wiY6",
        "colab_type": "text"
      },
      "cell_type": "markdown",
      "source": [
        "# Alexander Acosta y Julián Arango"
      ]
    },
    {
      "metadata": {
        "id": "v0P2YTq2v2g0",
        "colab_type": "code",
        "colab": {}
      },
      "cell_type": "code",
      "source": [
        "# imports necesarios\n",
        "\n",
        "import pandas as pd\n",
        "from sklearn.model_selection import train_test_split\n",
        "from sklearn import tree\n",
        "from sklearn import linear_model\n",
        "\n",
        "import seaborn as sns\n",
        "import matplotlib.pyplot as plt \n",
        "sns.set(style=\"white\")"
      ],
      "execution_count": 0,
      "outputs": []
    },
    {
      "metadata": {
        "id": "rHmBfSgs-0eB",
        "colab_type": "text"
      },
      "cell_type": "markdown",
      "source": [
        "#Entendimiento del problema\n",
        "\n"
      ]
    },
    {
      "metadata": {
        "id": "qUNDhqouxaH8",
        "colab_type": "code",
        "colab": {}
      },
      "cell_type": "code",
      "source": [
        "# Dataset original\n",
        "wines = pd.read_csv(\"whitewine.csv\",sep=\";\")\n",
        "\n",
        "feature_names = wines.drop(['quality'],axis=1).columns.values\n",
        "X = wines.drop(['quality'], axis=1).values\n",
        "\n",
        "y = wines['quality']"
      ],
      "execution_count": 0,
      "outputs": []
    },
    {
      "metadata": {
        "id": "b1pOxkoq8xoV",
        "colab_type": "code",
        "outputId": "f094497c-acf2-4f4e-c73e-36c1ac4fa32e",
        "colab": {
          "base_uri": "https://localhost:8080/",
          "height": 570
        }
      },
      "cell_type": "code",
      "source": [
        "import numpy as np\n",
        "import matplotlib.pyplot as plt\n",
        "\n",
        "from sklearn.ensemble import ExtraTreesClassifier\n",
        "\n",
        "# Build a forest and compute the feature importances\n",
        "forest = ExtraTreesClassifier(n_estimators=250,\n",
        "                              random_state=0)\n",
        "\n",
        "forest.fit(X, y)\n",
        "importances = forest.feature_importances_\n",
        "std = np.std([tree.feature_importances_ for tree in forest.estimators_],\n",
        "             axis=0)\n",
        "indices = np.argsort(importances)[::-1]\n",
        "\n",
        "# Print the feature ranking\n",
        "print(\"Feature ranking:\")\n",
        "\n",
        "for f in range(X.shape[1]):\n",
        "    print(\"%d. %s (%f)\" % (f + 1, feature_names[indices[f]], importances[indices[f]]))\n",
        "\n",
        "# Plot the feature importances of the forest\n",
        "plt.figure()\n",
        "plt.title(\"Feature importances\")\n",
        "plt.bar(range(X.shape[1]), importances[indices],\n",
        "       color=\"r\", yerr=std[indices], align=\"center\")\n",
        "plt.xticks(range(X.shape[1]), indices)\n",
        "plt.xlim([-1, X.shape[1]])\n",
        "plt.show()\n"
      ],
      "execution_count": 4,
      "outputs": [
        {
          "output_type": "stream",
          "text": [
            "Feature ranking:\n",
            "1. alcohol (0.127125)\n",
            "2. volatile acidity (0.101105)\n",
            "3. density (0.093041)\n",
            "4. free sulfur dioxide (0.090916)\n",
            "5. total sulfur dioxide (0.087331)\n",
            "6. citric acid (0.085161)\n",
            "7. residual sugar (0.084902)\n",
            "8. pH (0.084246)\n",
            "9. chlorides (0.083511)\n",
            "10. sulphates (0.082946)\n",
            "11. fixed acidity (0.079716)\n"
          ],
          "name": "stdout"
        },
        {
          "output_type": "display_data",
          "data": {
            "image/png": "[encoded data removed]",
            "text/plain": [
              "<Figure size 576x396 with 1 Axes>"
            ]
          },
          "metadata": {
            "tags": []
          }
        }
      ]
    },
    {
      "metadata": {
        "id": "uf74EI681TFn",
        "colab_type": "text"
      },
      "cell_type": "markdown",
      "source": [
        "# Relación entre las variables de entrada y la salida"
      ]
    },
    {
      "metadata": {
        "id": "foRpoyMh_uwp",
        "colab_type": "text"
      },
      "cell_type": "markdown",
      "source": [
        "# Revisión de la calidad de los datos\n",
        "\n",
        "Cómo se puede observar en la captura anterior, los datos del dataset utilizado no presentan valores nulos en ninguno de sus campos, es decir, se tienen 4200 registros con 11 variables independientes cada uno. Se hizo un análisis que incluye media, desviación estándar, mínimos, máximos y además los cuartiles para tener una visión general de la distribución de los datos.\n",
        "\n",
        "Las 11 variables son de tipo numérico y son variables continuas. \n",
        "\n",
        "\n"
      ]
    },
    {
      "metadata": {
        "id": "x0Di1-01AZQc",
        "colab_type": "code",
        "colab": {}
      },
      "cell_type": "code",
      "source": [
        "wines.head()"
      ],
      "execution_count": 0,
      "outputs": []
    },
    {
      "metadata": {
        "id": "UQLawqKMyPlG",
        "colab_type": "code",
        "colab": {}
      },
      "cell_type": "code",
      "source": [
        "wines.describe()"
      ],
      "execution_count": 0,
      "outputs": []
    },
    {
      "metadata": {
        "id": "VlDMbwmBAgvc",
        "colab_type": "text"
      },
      "cell_type": "markdown",
      "source": [
        "# Modelos (logístico, árbol y lineal) y evaluación de su desempeño\n",
        "Para el caso de clasificación binaria se utiliza como límite de calidad el 5, menor o igual a este valor se considera como un vino de mala calidad ( calidad = 0), si es mayor se considera de buena calidad ( calidad = 1).\n",
        "\n",
        "A continuación mostraremos por qué se escogió el límite en 5, en esta imagen se muestra la distribución de la calidad de los vinos en el dataset utilizado.\n",
        "\n"
      ]
    },
    {
      "metadata": {
        "id": "JFSE3iLHx8KG",
        "colab_type": "code",
        "outputId": "6fc84a1c-9457-49a1-bd36-a4c521c8818d",
        "colab": {
          "base_uri": "https://localhost:8080/",
          "height": 418
        }
      },
      "cell_type": "code",
      "source": [
        "sns.countplot(x=\"quality\",data=wines,palette=\"hls\")\n",
        "plt.show()"
      ],
      "execution_count": 0,
      "outputs": [
        {
          "output_type": "stream",
          "text": [
            "/usr/local/lib/python3.6/dist-packages/seaborn/categorical.py:1428: FutureWarning: remove_na is deprecated and is a private function. Do not use.\n",
            "  stat_data = remove_na(group_data)\n"
          ],
          "name": "stderr"
        },
        {
          "output_type": "display_data",
          "data": {
            "image/png": "[encoded data removed]",
            "text/plain": [
              "<Figure size 576x396 with 1 Axes>"
            ]
          },
          "metadata": {
            "tags": []
          }
        }
      ]
    },
    {
      "metadata": {
        "id": "g6R_4vqr3Was",
        "colab_type": "text"
      },
      "cell_type": "markdown",
      "source": [
        "\n",
        "Se utilizaron bosques de árboles (forests of trees) para evaluar la importancia de las 11 variables de los datos, arrojando los siguientes resultados:"
      ]
    },
    {
      "metadata": {
        "id": "6rUUYefUBBLF",
        "colab_type": "text"
      },
      "cell_type": "markdown",
      "source": [
        "## Encontrando límite para calidad binaria\n"
      ]
    },
    {
      "metadata": {
        "id": "MWvUx6ynOTk5",
        "colab_type": "text"
      },
      "cell_type": "markdown",
      "source": [
        "###  Experimento 1 (limite 6)"
      ]
    },
    {
      "metadata": {
        "id": "Bp9w0mYTBfHq",
        "colab_type": "code",
        "outputId": "de4678f4-9100-4c97-8f76-1ca5e2e21610",
        "colab": {
          "base_uri": "https://localhost:8080/",
          "height": 449
        }
      },
      "cell_type": "code",
      "source": [
        "# Se cambia la calificion a binaria\n",
        "wines_bin = wines.copy()\n",
        "wines_bin.loc[wines_bin[\"quality\"] <= 6,'quality'] = 0 # quality <= 5 = 0 (malo)\n",
        "wines_bin.loc[wines_bin[\"quality\"] > 6,'quality'] = 1 # quality > 5 = 1 (bueno)\n",
        "y_bin = wines_bin['quality'].values\n",
        "\n",
        "count_poor = len(wines_bin[wines_bin['quality']==0])\n",
        "count_excellent = len(wines_bin[wines_bin['quality']==1])\n",
        "\n",
        "pct_of_poor = count_poor/(count_poor+count_excellent)\n",
        "print(\"percentage of poor is\", pct_of_poor*100)\n",
        "pct_of_excellent = count_excellent/(count_poor+count_excellent)\n",
        "print(\"percentage of excellent\", pct_of_excellent*100)\n",
        "\n",
        "sns.countplot(x=\"quality\",data=wines_bin,palette=\"hls\")\n",
        "plt.show()"
      ],
      "execution_count": 0,
      "outputs": [
        {
          "output_type": "stream",
          "text": [
            "percentage of poor is 78.47619047619048\n",
            "percentage of excellent 21.523809523809522\n"
          ],
          "name": "stdout"
        },
        {
          "output_type": "stream",
          "text": [
            "/usr/local/lib/python3.6/dist-packages/seaborn/categorical.py:1428: FutureWarning: remove_na is deprecated and is a private function. Do not use.\n",
            "  stat_data = remove_na(group_data)\n"
          ],
          "name": "stderr"
        },
        {
          "output_type": "display_data",
          "data": {
            "image/png": "[encoded data removed]",
            "text/plain": [
              "<Figure size 576x396 with 1 Axes>"
            ]
          },
          "metadata": {
            "tags": []
          }
        }
      ]
    },
    {
      "metadata": {
        "id": "0dMh4SEJNLZJ",
        "colab_type": "text"
      },
      "cell_type": "markdown",
      "source": [
        "### Experimento 2 (límite 5)"
      ]
    },
    {
      "metadata": {
        "id": "mwhnxxGKBiQf",
        "colab_type": "code",
        "outputId": "ac476a20-8c59-4ad5-8d4b-c0929ccabc67",
        "colab": {
          "base_uri": "https://localhost:8080/",
          "height": 449
        }
      },
      "cell_type": "code",
      "source": [
        "# Se cambia la calificion a binaria\n",
        "wines_bin = wines.copy()\n",
        "wines_bin.loc[wines_bin[\"quality\"] <= 5,'quality'] = 0 # quality <= 5 = 0 (malo)\n",
        "wines_bin.loc[wines_bin[\"quality\"] > 5,'quality'] = 1 # quality > 5 = 1 (bueno)\n",
        "y_bin = wines_bin['quality'].values\n",
        "\n",
        "count_poor = len(wines_bin[wines_bin['quality']==0])\n",
        "count_excellent = len(wines_bin[wines_bin['quality']==1])\n",
        "\n",
        "pct_of_poor = count_poor/(count_poor+count_excellent)\n",
        "print(\"percentage of poor is\", pct_of_poor*100)\n",
        "pct_of_excellent = count_excellent/(count_poor+count_excellent)\n",
        "print(\"percentage of excellent\", pct_of_excellent*100)\n",
        "\n",
        "sns.countplot(x=\"quality\",data=wines_bin,palette=\"hls\")\n",
        "plt.show()"
      ],
      "execution_count": 0,
      "outputs": [
        {
          "output_type": "stream",
          "text": [
            "percentage of poor is 32.976190476190474\n",
            "percentage of excellent 67.02380952380952\n"
          ],
          "name": "stdout"
        },
        {
          "output_type": "stream",
          "text": [
            "/usr/local/lib/python3.6/dist-packages/seaborn/categorical.py:1428: FutureWarning: remove_na is deprecated and is a private function. Do not use.\n",
            "  stat_data = remove_na(group_data)\n"
          ],
          "name": "stderr"
        },
        {
          "output_type": "display_data",
          "data": {
            "image/png": "[encoded data removed]",
            "text/plain": [
              "<Figure size 576x396 with 1 Axes>"
            ]
          },
          "metadata": {
            "tags": []
          }
        }
      ]
    },
    {
      "metadata": {
        "id": "anLWbg3ZDvmQ",
        "colab_type": "text"
      },
      "cell_type": "markdown",
      "source": [
        "Aunque sigue siendo desequilibrado, este sería el punto más equilibrado para dividir el dataset en dos calidades, buscando la manera de tener los dos grupos balanceados."
      ]
    },
    {
      "metadata": {
        "id": "_IJYWr-PO3EZ",
        "colab_type": "text"
      },
      "cell_type": "markdown",
      "source": [
        "## Regresión Lineal"
      ]
    },
    {
      "metadata": {
        "id": "jHDaUQTZO7mT",
        "colab_type": "code",
        "outputId": "6dd86f4f-0df2-4510-8102-c90a6aeeb8d2",
        "colab": {
          "base_uri": "https://localhost:8080/",
          "height": 34
        }
      },
      "cell_type": "code",
      "source": [
        "# partición de los datos para entrenamiento y test\n",
        "X_train, X_test, y_train, y_test = train_test_split(X, y, test_size=0.25)\n",
        "\n",
        "clf = linear_model.LinearRegression()\n",
        "clf.fit(X_train, y_train)\n",
        "clf.score(X_test, y_test)*100"
      ],
      "execution_count": 0,
      "outputs": [
        {
          "output_type": "execute_result",
          "data": {
            "text/plain": [
              "28.249712765319767"
            ]
          },
          "metadata": {
            "tags": []
          },
          "execution_count": 9
        }
      ]
    },
    {
      "metadata": {
        "id": "O12A1KmIT0Gp",
        "colab_type": "code",
        "outputId": "4d5050c8-ad5d-45f8-cf2b-df676f39762d",
        "colab": {
          "base_uri": "https://localhost:8080/",
          "height": 34
        }
      },
      "cell_type": "code",
      "source": [
        "clf.fit(X_train[:,[10,1,7,5]], y_train)\n",
        "clf.score(X_test[:,[10,1,7,2]], y_test)*100"
      ],
      "execution_count": 0,
      "outputs": [
        {
          "output_type": "execute_result",
          "data": {
            "text/plain": [
              "22.025045794233712"
            ]
          },
          "metadata": {
            "tags": []
          },
          "execution_count": 10
        }
      ]
    },
    {
      "metadata": {
        "id": "PYgYgnRNws5u",
        "colab_type": "text"
      },
      "cell_type": "markdown",
      "source": [
        "## Regresión logística:\n",
        "\n",
        "En este modelo se tomaron todas la variables del problema."
      ]
    },
    {
      "metadata": {
        "id": "kNMScViky4sR",
        "colab_type": "code",
        "colab": {}
      },
      "cell_type": "code",
      "source": [
        "# partición de los datos para entrenamiento y test\n",
        "X_train, X_test, y_train, y_test = train_test_split(X, y_bin, test_size=0.25)"
      ],
      "execution_count": 0,
      "outputs": []
    },
    {
      "metadata": {
        "id": "uAsah28P0O3f",
        "colab_type": "code",
        "outputId": "03476a62-8997-4812-acd7-d8ac4a2627f7",
        "colab": {
          "base_uri": "https://localhost:8080/"
        }
      },
      "cell_type": "code",
      "source": [
        "clf = linear_model.LogisticRegression(solver=\"lbfgs\")\n",
        "clf.fit(X_train, y_train)\n",
        "clf.score(X_test, y_test)*100"
      ],
      "execution_count": 0,
      "outputs": [
        {
          "output_type": "stream",
          "text": [
            "/usr/local/lib/python3.6/dist-packages/sklearn/linear_model/logistic.py:758: ConvergenceWarning: lbfgs failed to converge. Increase the number of iterations.\n",
            "  \"of iterations.\", ConvergenceWarning)\n"
          ],
          "name": "stderr"
        },
        {
          "output_type": "execute_result",
          "data": {
            "text/plain": [
              "73.90476190476191"
            ]
          },
          "metadata": {
            "tags": []
          },
          "execution_count": 12
        }
      ]
    },
    {
      "metadata": {
        "id": "I0055F1zx09a",
        "colab_type": "text"
      },
      "cell_type": "markdown",
      "source": [
        "En este modelo se tomaron las 5 variables con más importancia (según lo mostrado en el punto de entendimiento del problema):\n",
        "  \n",
        "  * Alcohol\n",
        "  * Volatile acidity\n",
        "  * Density\n",
        "  * Free sulfur dioxide\n",
        "  * citric acid"
      ]
    },
    {
      "metadata": {
        "id": "3tgCbVk0Zj6Y",
        "colab_type": "code",
        "outputId": "cdceca03-796b-437f-cee2-5ca5fe9fd810",
        "colab": {
          "base_uri": "https://localhost:8080/"
        }
      },
      "cell_type": "code",
      "source": [
        "clf = linear_model.LogisticRegression(solver=\"lbfgs\")\n",
        "clf.fit(X_train[:,[10,1,7,5,2]], y_train)\n",
        "clf.score(X_test[:,[10,1,7,5,2]], y_test)*100"
      ],
      "execution_count": 0,
      "outputs": [
        {
          "output_type": "execute_result",
          "data": {
            "text/plain": [
              "71.42857142857143"
            ]
          },
          "metadata": {
            "tags": []
          },
          "execution_count": 13
        }
      ]
    },
    {
      "metadata": {
        "id": "STiNWr0ztHoi",
        "colab_type": "text"
      },
      "cell_type": "markdown",
      "source": [
        "## Árboles de decisión:"
      ]
    },
    {
      "metadata": {
        "id": "FlTJ2c6ole0c",
        "colab_type": "text"
      },
      "cell_type": "markdown",
      "source": [
        "<p> En este modelo se tomaron todas la variables del problema."
      ]
    },
    {
      "metadata": {
        "id": "nb56P5rezDgL",
        "colab_type": "code",
        "outputId": "3feff7ee-669d-4a77-dad9-9509155ae3d4",
        "colab": {
          "base_uri": "https://localhost:8080/",
          "height": 34
        }
      },
      "cell_type": "code",
      "source": [
        "clf = tree.DecisionTreeClassifier(max_depth=7)\n",
        "clf = clf.fit(X_train, y_train)\n",
        "clf.score(X_test, y_test)*100"
      ],
      "execution_count": 0,
      "outputs": [
        {
          "output_type": "execute_result",
          "data": {
            "text/plain": [
              "78.38095238095238"
            ]
          },
          "metadata": {
            "tags": []
          },
          "execution_count": 14
        }
      ]
    },
    {
      "metadata": {
        "id": "2Uk-ehTbtTS5",
        "colab_type": "text"
      },
      "cell_type": "markdown",
      "source": [
        "<p>En este modelo se modificó el parámetro de profundidad."
      ]
    },
    {
      "metadata": {
        "id": "oSgkUXnatSmJ",
        "colab_type": "code",
        "outputId": "9f291041-b655-4d10-fb27-3687e38c48f8",
        "colab": {
          "base_uri": "https://localhost:8080/",
          "height": 34
        }
      },
      "cell_type": "code",
      "source": [
        "clf = tree.DecisionTreeClassifier(max_depth=15)\n",
        "clf = clf.fit(X_train, y_train)\n",
        "clf.score(X_test, y_test)*100"
      ],
      "execution_count": 0,
      "outputs": [
        {
          "output_type": "execute_result",
          "data": {
            "text/plain": [
              "80.47619047619048"
            ]
          },
          "metadata": {
            "tags": []
          },
          "execution_count": 15
        }
      ]
    },
    {
      "metadata": {
        "id": "a9Ng_9GmnR5K",
        "colab_type": "text"
      },
      "cell_type": "markdown",
      "source": [
        "En este modelo se tomaron las 5 variables con más importancia (según lo mostrado en el punto de entendimiento del problema):\n",
        "  \n",
        "  * Alcohol\n",
        "  * Volatile acidity\n",
        "  * Density\n",
        "  * Free sulfur dioxide\n",
        "  * Citric acid"
      ]
    },
    {
      "metadata": {
        "id": "McP_p3STR5gk",
        "colab_type": "code",
        "outputId": "8e3565c0-34c4-4a23-90d2-7dc44d6857f6",
        "colab": {
          "base_uri": "https://localhost:8080/",
          "height": 34
        }
      },
      "cell_type": "code",
      "source": [
        "clf = tree.DecisionTreeClassifier(max_depth=7)\n",
        "clf = clf.fit(X_train[:,[10,1,7,5,2]], y_train)\n",
        "clf.score(X_test[:,[10,1,7,5,2]], y_test)*100"
      ],
      "execution_count": 0,
      "outputs": [
        {
          "output_type": "execute_result",
          "data": {
            "text/plain": [
              "76.09523809523809"
            ]
          },
          "metadata": {
            "tags": []
          },
          "execution_count": 16
        }
      ]
    },
    {
      "metadata": {
        "id": "7P3wg5W9wPhS",
        "colab_type": "text"
      },
      "cell_type": "markdown",
      "source": [
        "<p>En este modelo se modificó el parámetro de profundidad y se tomaron las 4 variables con más importancia"
      ]
    },
    {
      "metadata": {
        "id": "bNhAduX5wbSq",
        "colab_type": "code",
        "outputId": "87ef882d-69ac-4c4c-9743-72d0aed9b00f",
        "colab": {
          "base_uri": "https://localhost:8080/",
          "height": 34
        }
      },
      "cell_type": "code",
      "source": [
        "clf = tree.DecisionTreeClassifier(max_depth=20)\n",
        "clf = clf.fit(X[:,[10,1,7,5,2]], y_bin)\n",
        "clf.score(X_test[:,[10,1,7,5,2]], y_test)*100"
      ],
      "execution_count": 0,
      "outputs": [
        {
          "output_type": "execute_result",
          "data": {
            "text/plain": [
              "99.61904761904762"
            ]
          },
          "metadata": {
            "tags": []
          },
          "execution_count": 22
        }
      ]
    },
    {
      "metadata": {
        "id": "kdsR5cFQxttZ",
        "colab_type": "text"
      },
      "cell_type": "markdown",
      "source": [
        ""
      ]
    },
    {
      "metadata": {
        "id": "bb9T9uTwcqS6",
        "colab_type": "code",
        "colab": {}
      },
      "cell_type": "code",
      "source": [
        "import pickle\n",
        "# save the classifier\n",
        "with open('classifier.pkl', 'wb') as fid:\n",
        "    pickle.dump(clf, fid)    \n"
      ],
      "execution_count": 0,
      "outputs": []
    },
    {
      "metadata": {
        "id": "ari62mZ_eK3K",
        "colab_type": "code",
        "colab": {}
      },
      "cell_type": "code",
      "source": [
        "with open('classifier.pkl', 'rb') as fid:\n",
        "    gnb_loaded = pickle.load(fid)"
      ],
      "execution_count": 0,
      "outputs": []
    },
    {
      "metadata": {
        "id": "IFt9W12MeTIA",
        "colab_type": "code",
        "colab": {}
      },
      "cell_type": "code",
      "source": [
        "predictions = gnb_loaded.predict(X_test[:,[10,1,7,5,2]])"
      ],
      "execution_count": 0,
      "outputs": []
    },
    {
      "metadata": {
        "id": "bslhqAdYeVDJ",
        "colab_type": "code",
        "outputId": "0c32772c-fdcc-40d5-968e-bd39743d6d88",
        "colab": {
          "base_uri": "https://localhost:8080/",
          "height": 34
        }
      },
      "cell_type": "code",
      "source": [
        "predictions"
      ],
      "execution_count": 0,
      "outputs": [
        {
          "output_type": "execute_result",
          "data": {
            "text/plain": [
              "array([1, 1, 1, ..., 0, 1, 1])"
            ]
          },
          "metadata": {
            "tags": []
          },
          "execution_count": 21
        }
      ]
    },
    {
      "metadata": {
        "id": "cCjvrZrd1mAh",
        "colab_type": "text"
      },
      "cell_type": "markdown",
      "source": [
        "# Escogencia del umbral de probabilidad en clasificación y justificarlo"
      ]
    }
  ]
}